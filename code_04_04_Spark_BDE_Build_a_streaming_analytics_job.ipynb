{
 "cells": [
  {
   "cell_type": "markdown",
   "id": "262d595b-25da-4661-92f4-322f913918bf",
   "metadata": {},
   "source": [
    "### Create a streaming analytics job"
   ]
  },
  {
   "cell_type": "code",
   "execution_count": 4,
   "id": "77b2c3a5-4102-4f04-9ff4-ac9c87877fbf",
   "metadata": {},
   "outputs": [],
   "source": [
    "import redis\n",
    "import mariadb\n",
    "\n",
    "#For production systems, use a class instead\n",
    "#https://spark.apache.org/docs/latest/api/python/reference/pyspark.ss/api/pyspark.sql.streaming.DataStreamWriter.foreach.html\n",
    "def write_to_redis(row):\n",
    "    stats_key=\"last-action-stats\"\n",
    "    redis_conn=redis.Redis(host=\"localhost\", \n",
    "                     port=6379, decode_responses=True)\n",
    "    redis_conn.zincrby(stats_key,\n",
    "                        row[\"duration\"],row[\"country\"])\n",
    "    redis_conn.quit()       \n",
    "\n",
    "def write_to_mariadb(row):\n",
    "    #Connect to website_stats database\n",
    "    summary_conn = mariadb.connect(\n",
    "                user=\"spark\",\n",
    "                password=\"spark\",\n",
    "                host=\"127.0.0.1\",\n",
    "                port=3306,\n",
    "                database=\"website_stats\",\n",
    "                autocommit=True\n",
    "            )\n",
    "    summary_cursor = summary_conn.cursor()\n",
    "    \n",
    "    summary_sql=f\"\"\"\n",
    "            INSERT INTO `website_stats`.`visit_stats` \n",
    "                (INTERVAL_TIMESTAMP, LAST_ACTION, DURATION)\n",
    "            VALUES('{row[\"window\"][\"start\"]}',\n",
    "                    '{row[\"last_action\"]}',\n",
    "                    '{row[\"duration\"]}')\n",
    "            \"\"\"\n",
    "    summary_cursor.execute(summary_sql)\n",
    "    \n",
    "\n"
   ]
  },
  {
   "cell_type": "code",
   "execution_count": 5,
   "id": "8129d532-e988-43f7-88e8-6726d4ae0b50",
   "metadata": {
    "scrolled": true
   },
   "outputs": [
    {
     "name": "stdout",
     "output_type": "stream",
     "text": [
      "*************Starting Streaming Analytics for Website visits*****************\n",
      "Reading from Kafka...\n"
     ]
    },
    {
     "name": "stderr",
     "output_type": "stream",
     "text": [
      "24/08/12 13:00:57 WARN ResolveWriteToStream: spark.sql.adaptive.enabled is not supported in streaming DataFrames/Datasets and will be disabled.\n",
      "24/08/12 13:00:57 WARN StreamingQueryManager: Stopping existing streaming query [id=1091e04d-356e-40ed-bf0b-7447182f5785, runId=49062f60-2c8f-4b89-a6fb-e9820f0331e5], as a new run is being started.\n",
      "24/08/12 13:00:57 WARN ResolveWriteToStream: Temporary checkpoint location created which is deleted normally when the query didn't fail: /private/var/folders/qf/pjh43fdj3934j4fjm0_j42m00000r9/T/temporary-ce26121a-f1b2-445a-9b60-cb4c522fcc99. If it's required to delete it under any circumstances, please set spark.sql.streaming.forceDeleteTempCheckpointLocation to true. Important to know deleting temp checkpoint folder is best effort.\n",
      "24/08/12 13:00:57 WARN ResolveWriteToStream: spark.sql.adaptive.enabled is not supported in streaming DataFrames/Datasets and will be disabled.\n",
      "24/08/12 13:00:57 WARN ResolveWriteToStream: Temporary checkpoint location created which is deleted normally when the query didn't fail: /private/var/folders/qf/pjh43fdj3934j4fjm0_j42m00000r9/T/temporary-cc1877fb-b4ad-4e38-90b1-73daba88a939. If it's required to delete it under any circumstances, please set spark.sql.streaming.forceDeleteTempCheckpointLocation to true. Important to know deleting temp checkpoint folder is best effort.\n",
      "24/08/12 13:00:57 WARN ResolveWriteToStream: spark.sql.adaptive.enabled is not supported in streaming DataFrames/Datasets and will be disabled.\n",
      "ERROR:root:KeyboardInterrupt while sending command.                             \n",
      "Traceback (most recent call last):\n",
      "  File \"/opt/anaconda3/envs/spark/lib/python3.11/site-packages/py4j/java_gateway.py\", line 1038, in send_command\n",
      "    response = connection.send_command(command)\n",
      "               ^^^^^^^^^^^^^^^^^^^^^^^^^^^^^^^^\n",
      "  File \"/opt/anaconda3/envs/spark/lib/python3.11/site-packages/py4j/clientserver.py\", line 511, in send_command\n",
      "    answer = smart_decode(self.stream.readline()[:-1])\n",
      "                          ^^^^^^^^^^^^^^^^^^^^^^\n",
      "  File \"/opt/anaconda3/envs/spark/lib/python3.11/socket.py\", line 706, in readinto\n",
      "    return self._sock.recv_into(b)\n",
      "           ^^^^^^^^^^^^^^^^^^^^^^^\n",
      "KeyboardInterrupt\n"
     ]
    },
    {
     "ename": "KeyboardInterrupt",
     "evalue": "",
     "output_type": "error",
     "traceback": [
      "\u001b[0;31m---------------------------------------------------------------------------\u001b[0m",
      "\u001b[0;31mKeyboardInterrupt\u001b[0m                         Traceback (most recent call last)",
      "Cell \u001b[0;32mIn[5], line 80\u001b[0m\n\u001b[1;32m     67\u001b[0m \u001b[38;5;66;03m#Create sum(duration) for last action every 5 seconds and write to mariaDB\u001b[39;00m\n\u001b[1;32m     68\u001b[0m windowed_summary \u001b[38;5;241m=\u001b[39m visits_df\\\n\u001b[1;32m     69\u001b[0m                     \u001b[38;5;241m.\u001b[39mwithColumn(\u001b[38;5;124m\"\u001b[39m\u001b[38;5;124mtimestamp\u001b[39m\u001b[38;5;124m\"\u001b[39m,functions\u001b[38;5;241m.\u001b[39mcurrent_timestamp())\\\n\u001b[1;32m     70\u001b[0m                     \u001b[38;5;241m.\u001b[39mwithWatermark(\u001b[38;5;124m\"\u001b[39m\u001b[38;5;124mtimestamp\u001b[39m\u001b[38;5;124m\"\u001b[39m,\u001b[38;5;124m\"\u001b[39m\u001b[38;5;124m5 seconds\u001b[39m\u001b[38;5;124m\"\u001b[39m)\\\n\u001b[0;32m   (...)\u001b[0m\n\u001b[1;32m     73\u001b[0m                             functions\u001b[38;5;241m.\u001b[39mcol(\u001b[38;5;124m\"\u001b[39m\u001b[38;5;124mlast_action\u001b[39m\u001b[38;5;124m\"\u001b[39m))\\\n\u001b[1;32m     74\u001b[0m                     \u001b[38;5;241m.\u001b[39magg(functions\u001b[38;5;241m.\u001b[39msum(functions\u001b[38;5;241m.\u001b[39mcol(\u001b[38;5;124m\"\u001b[39m\u001b[38;5;124mduration\u001b[39m\u001b[38;5;124m\"\u001b[39m))\u001b[38;5;241m.\u001b[39malias(\u001b[38;5;124m\"\u001b[39m\u001b[38;5;124mduration\u001b[39m\u001b[38;5;124m\"\u001b[39m))\n\u001b[1;32m     76\u001b[0m windowed_summary\\\n\u001b[1;32m     77\u001b[0m     \u001b[38;5;241m.\u001b[39mwriteStream\\\n\u001b[1;32m     78\u001b[0m \u001b[38;5;241m.\u001b[39mforeach(write_to_mariadb)\\\n\u001b[1;32m     79\u001b[0m     \u001b[38;5;241m.\u001b[39mstart()\\\n\u001b[0;32m---> 80\u001b[0m     \u001b[38;5;241m.\u001b[39mawaitTermination()\n",
      "File \u001b[0;32m/opt/anaconda3/envs/spark/lib/python3.11/site-packages/pyspark/sql/streaming/query.py:221\u001b[0m, in \u001b[0;36mStreamingQuery.awaitTermination\u001b[0;34m(self, timeout)\u001b[0m\n\u001b[1;32m    219\u001b[0m     \u001b[38;5;28;01mreturn\u001b[39;00m \u001b[38;5;28mself\u001b[39m\u001b[38;5;241m.\u001b[39m_jsq\u001b[38;5;241m.\u001b[39mawaitTermination(\u001b[38;5;28mint\u001b[39m(timeout \u001b[38;5;241m*\u001b[39m \u001b[38;5;241m1000\u001b[39m))\n\u001b[1;32m    220\u001b[0m \u001b[38;5;28;01melse\u001b[39;00m:\n\u001b[0;32m--> 221\u001b[0m     \u001b[38;5;28;01mreturn\u001b[39;00m \u001b[38;5;28mself\u001b[39m\u001b[38;5;241m.\u001b[39m_jsq\u001b[38;5;241m.\u001b[39mawaitTermination()\n",
      "File \u001b[0;32m/opt/anaconda3/envs/spark/lib/python3.11/site-packages/py4j/java_gateway.py:1321\u001b[0m, in \u001b[0;36mJavaMember.__call__\u001b[0;34m(self, *args)\u001b[0m\n\u001b[1;32m   1314\u001b[0m args_command, temp_args \u001b[38;5;241m=\u001b[39m \u001b[38;5;28mself\u001b[39m\u001b[38;5;241m.\u001b[39m_build_args(\u001b[38;5;241m*\u001b[39margs)\n\u001b[1;32m   1316\u001b[0m command \u001b[38;5;241m=\u001b[39m proto\u001b[38;5;241m.\u001b[39mCALL_COMMAND_NAME \u001b[38;5;241m+\u001b[39m\\\n\u001b[1;32m   1317\u001b[0m     \u001b[38;5;28mself\u001b[39m\u001b[38;5;241m.\u001b[39mcommand_header \u001b[38;5;241m+\u001b[39m\\\n\u001b[1;32m   1318\u001b[0m     args_command \u001b[38;5;241m+\u001b[39m\\\n\u001b[1;32m   1319\u001b[0m     proto\u001b[38;5;241m.\u001b[39mEND_COMMAND_PART\n\u001b[0;32m-> 1321\u001b[0m answer \u001b[38;5;241m=\u001b[39m \u001b[38;5;28mself\u001b[39m\u001b[38;5;241m.\u001b[39mgateway_client\u001b[38;5;241m.\u001b[39msend_command(command)\n\u001b[1;32m   1322\u001b[0m return_value \u001b[38;5;241m=\u001b[39m get_return_value(\n\u001b[1;32m   1323\u001b[0m     answer, \u001b[38;5;28mself\u001b[39m\u001b[38;5;241m.\u001b[39mgateway_client, \u001b[38;5;28mself\u001b[39m\u001b[38;5;241m.\u001b[39mtarget_id, \u001b[38;5;28mself\u001b[39m\u001b[38;5;241m.\u001b[39mname)\n\u001b[1;32m   1325\u001b[0m \u001b[38;5;28;01mfor\u001b[39;00m temp_arg \u001b[38;5;129;01min\u001b[39;00m temp_args:\n",
      "File \u001b[0;32m/opt/anaconda3/envs/spark/lib/python3.11/site-packages/py4j/java_gateway.py:1038\u001b[0m, in \u001b[0;36mGatewayClient.send_command\u001b[0;34m(self, command, retry, binary)\u001b[0m\n\u001b[1;32m   1036\u001b[0m connection \u001b[38;5;241m=\u001b[39m \u001b[38;5;28mself\u001b[39m\u001b[38;5;241m.\u001b[39m_get_connection()\n\u001b[1;32m   1037\u001b[0m \u001b[38;5;28;01mtry\u001b[39;00m:\n\u001b[0;32m-> 1038\u001b[0m     response \u001b[38;5;241m=\u001b[39m connection\u001b[38;5;241m.\u001b[39msend_command(command)\n\u001b[1;32m   1039\u001b[0m     \u001b[38;5;28;01mif\u001b[39;00m binary:\n\u001b[1;32m   1040\u001b[0m         \u001b[38;5;28;01mreturn\u001b[39;00m response, \u001b[38;5;28mself\u001b[39m\u001b[38;5;241m.\u001b[39m_create_connection_guard(connection)\n",
      "File \u001b[0;32m/opt/anaconda3/envs/spark/lib/python3.11/site-packages/py4j/clientserver.py:511\u001b[0m, in \u001b[0;36mClientServerConnection.send_command\u001b[0;34m(self, command)\u001b[0m\n\u001b[1;32m    509\u001b[0m \u001b[38;5;28;01mtry\u001b[39;00m:\n\u001b[1;32m    510\u001b[0m     \u001b[38;5;28;01mwhile\u001b[39;00m \u001b[38;5;28;01mTrue\u001b[39;00m:\n\u001b[0;32m--> 511\u001b[0m         answer \u001b[38;5;241m=\u001b[39m smart_decode(\u001b[38;5;28mself\u001b[39m\u001b[38;5;241m.\u001b[39mstream\u001b[38;5;241m.\u001b[39mreadline()[:\u001b[38;5;241m-\u001b[39m\u001b[38;5;241m1\u001b[39m])\n\u001b[1;32m    512\u001b[0m         logger\u001b[38;5;241m.\u001b[39mdebug(\u001b[38;5;124m\"\u001b[39m\u001b[38;5;124mAnswer received: \u001b[39m\u001b[38;5;132;01m{0}\u001b[39;00m\u001b[38;5;124m\"\u001b[39m\u001b[38;5;241m.\u001b[39mformat(answer))\n\u001b[1;32m    513\u001b[0m         \u001b[38;5;66;03m# Happens when a the other end is dead. There might be an empty\u001b[39;00m\n\u001b[1;32m    514\u001b[0m         \u001b[38;5;66;03m# answer before the socket raises an error.\u001b[39;00m\n",
      "File \u001b[0;32m/opt/anaconda3/envs/spark/lib/python3.11/socket.py:706\u001b[0m, in \u001b[0;36mSocketIO.readinto\u001b[0;34m(self, b)\u001b[0m\n\u001b[1;32m    704\u001b[0m \u001b[38;5;28;01mwhile\u001b[39;00m \u001b[38;5;28;01mTrue\u001b[39;00m:\n\u001b[1;32m    705\u001b[0m     \u001b[38;5;28;01mtry\u001b[39;00m:\n\u001b[0;32m--> 706\u001b[0m         \u001b[38;5;28;01mreturn\u001b[39;00m \u001b[38;5;28mself\u001b[39m\u001b[38;5;241m.\u001b[39m_sock\u001b[38;5;241m.\u001b[39mrecv_into(b)\n\u001b[1;32m    707\u001b[0m     \u001b[38;5;28;01mexcept\u001b[39;00m timeout:\n\u001b[1;32m    708\u001b[0m         \u001b[38;5;28mself\u001b[39m\u001b[38;5;241m.\u001b[39m_timeout_occurred \u001b[38;5;241m=\u001b[39m \u001b[38;5;28;01mTrue\u001b[39;00m\n",
      "\u001b[0;31mKeyboardInterrupt\u001b[0m: "
     ]
    },
    {
     "name": "stderr",
     "output_type": "stream",
     "text": [
      "                                                                                \r"
     ]
    }
   ],
   "source": [
    "from pyspark.sql.types import *\n",
    "from pyspark.sql import functions\n",
    "from pyspark.sql import SparkSession\n",
    "import os\n",
    "\n",
    "print(\"*************Starting Streaming Analytics for Website visits*****************\")\n",
    "\n",
    "schema = StructType([\n",
    "                    StructField(\"country\", StringType()),\n",
    "                    StructField(\"last_action\", StringType()),\n",
    "                    StructField(\"visit_date\", TimestampNTZType()),\n",
    "                    StructField(\"duration\", IntegerType())\n",
    "                    ])\n",
    "\n",
    "#.config('spark.jars.packages', 'org.apache.spark:spark-sql-kafka-0-10_2.12:3.5.1')\\\n",
    "#create spark session\n",
    "streaming_spark = SparkSession\\\n",
    "            .builder\\\n",
    "            .appName(\"StreamingWebsiteAnalyticsJob\")\\\n",
    "            .config(\"spark.sql.shuffle.partitions\", 2)\\\n",
    "            .config(\"spark.default.parallelism\", 2)\\\n",
    "            .config(\"spark.sql.streaming.forceDeleteTempCheckpointLocation\", True)\\\n",
    "            .config(\"spark.hadoop.mapreduce.fileoutputcommitter.algorithm.version\",\"2\")\\\n",
    "            .config(\"spark.jars\", \"jars/mysql-connector-j-8.4.0.jar,\" +\\\n",
    "                                    \"jars/commons-pool2-2.12.0.jar,\" +\\\n",
    "                                    \"jars/kafka-clients-3.6.0.jar,\" + \\\n",
    "                                    \"jars/spark-sql-kafka-0-10_2.12-3.5.1.jar,\" +\\\n",
    "                                    \"jars/spark-token-provider-kafka-0-10_2.12-3.5.1.jar,\" +\\\n",
    "                                    \"jars/spark-streaming-kafka-0-10_2.12-3.5.1.jar\") \\\n",
    "            .config(\"spark.driver.extraClassPath\",\"jars/*\") \\\n",
    "            .config(\"spark.sql.streaming.forceDeleteTempCheckpointLocation\", True)\\\n",
    "            .master(\"local[2]\")\\\n",
    "            .getOrCreate()\n",
    "\n",
    "print(\"Reading from Kafka...\")\n",
    "raw_visits_df = streaming_spark\\\n",
    "                .readStream\\\n",
    "                .format(\"kafka\")\\\n",
    "                .option(\"kafka.bootstrap.servers\",\"localhost:9092\")\\\n",
    "                .option(\"subscribe\",\"spark.streaming.website.visits\")\\\n",
    "                .option(\"startingOffsets\",\"latest\")\\\n",
    "                .load()\n",
    "\n",
    "visits_df = raw_visits_df\\\n",
    "            .selectExpr(\"CAST(value AS STRING) as value\")\\\n",
    "            .select(functions.from_json(\"value\",schema).alias(\"visits\"))\\\n",
    "            .select(\"visits.*\")\n",
    "\n",
    "#Write abandoned shopping carts to a Kafka topic\n",
    "shopping_cart_df = visits_df\\\n",
    "                    .filter(\"last_action == 'ShoppingCart'\")\n",
    "\n",
    "shopping_cart_df.selectExpr(\"format_string(\\\"%s,%s,%s,%d\\\",country,last_action,visit_date,duration) as value\")\\\n",
    "                .writeStream\\\n",
    "                .format(\"kafka\")\\\n",
    "                .option(\"checkpointLocation\", \"tmp/cp-shoppingcart2\")\\\n",
    "                .option(\"kafka.bootstrap.servers\", \"localhost:9092\")\\\n",
    "                .option(\"topic\", \"spark.streaming.carts.abandoned\")\\\n",
    "                .start()\n",
    "\n",
    "#Update countrywise visit duration in real time to Redis\n",
    "visits_df.select(\"country\",\"duration\")\\\n",
    "        .writeStream\\\n",
    "        .foreach(write_to_redis)\\\n",
    "        .start()\n",
    "\n",
    "#Create sum(duration) for last action every 5 seconds and write to mariaDB\n",
    "windowed_summary = visits_df\\\n",
    "                    .withColumn(\"timestamp\",functions.current_timestamp())\\\n",
    "                    .withWatermark(\"timestamp\",\"5 seconds\")\\\n",
    "                    .groupBy(functions.window(\\\n",
    "                            functions.col(\"timestamp\"),\"5 seconds\"),\\\n",
    "                            functions.col(\"last_action\"))\\\n",
    "                    .agg(functions.sum(functions.col(\"duration\")).alias(\"duration\"))\n",
    "\n",
    "windowed_summary\\\n",
    "    .writeStream\\\n",
    ".foreach(write_to_mariadb)\\\n",
    "    .start()\\\n",
    "    .awaitTermination()\n"
   ]
  },
  {
   "cell_type": "code",
   "execution_count": null,
   "id": "76ee10ec-aa8f-4acc-901e-5fb30602cc72",
   "metadata": {},
   "outputs": [],
   "source": []
  },
  {
   "cell_type": "code",
   "execution_count": null,
   "id": "6aca8b11-ae48-4148-89ef-21ab02203298",
   "metadata": {},
   "outputs": [],
   "source": []
  }
 ],
 "metadata": {
  "kernelspec": {
   "display_name": "Python 3 (ipykernel)",
   "language": "python",
   "name": "python3"
  },
  "language_info": {
   "codemirror_mode": {
    "name": "ipython",
    "version": 3
   },
   "file_extension": ".py",
   "mimetype": "text/x-python",
   "name": "python",
   "nbconvert_exporter": "python",
   "pygments_lexer": "ipython3",
   "version": "3.11.9"
  }
 },
 "nbformat": 4,
 "nbformat_minor": 5
}
